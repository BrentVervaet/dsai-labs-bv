{
 "cells": [
  {
   "cell_type": "markdown",
   "metadata": {},
   "source": [
    "# Lab 1.01 - Australian Athletes (ais)\n",
    "\n",
    "In the Python cell below this one, paste all the imports you need for data analysis from the code examples (Numpy, Pandas, etc.)."
   ]
  },
  {
   "cell_type": "code",
   "execution_count": null,
   "metadata": {},
   "outputs": [],
   "source": [
    "# Package imports for data science\n",
    "import numpy as np\n",
    "import pandas as pd\n",
    "import scipy.stats as stats\n",
    "from pandas.api.types import CategoricalDtype\n",
    "import matplotlib.pyplot as plt\n",
    "import seaborn as sns\n",
    "from statsmodels.graphics.mosaicplot import mosaic"
   ]
  },
  {
   "cell_type": "markdown",
   "metadata": {},
   "source": [
    "Declare a variable `ais` and use it to import the dataset from the CSV-file `ais.csv` in [the directory `data/`](https://github.com/HoGentTIN/dsai-en-labs/tree/main/data) of the [Github repository](https://github.com/HoGentTIN/dsai-en-labs/) for the lab assignments. You can import a dataset with a URL pointing to the raw contents of the CSV-file in the Github repository (see the code example!).\n",
    "\n",
    "This dataset contains 202 observations of Australian athletes with a variety of blood values. You can find the codebook (i.e., the explanation of what each variable/column in the dataset means) in [data/ais.md](https://github.com/HoGentTIN/dsai-en-labs/blob/main/data/ais.md). Show the first few observations of this sample."
   ]
  },
  {
   "cell_type": "code",
   "execution_count": null,
   "metadata": {},
   "outputs": [],
   "source": [
    "ais = pd.read_csv(\"../data/ais.csv\") \n",
    "ais.head()"
   ]
  },
  {
   "cell_type": "markdown",
   "metadata": {},
   "source": [
    "Get general information about this dataset:\n",
    "\n",
    "- How many rows and columns does the dataset have?\n",
    "- Show general information about each variable, specifically the number of empty fields and the type of each variable (e.g., int64, float64, object)\n",
    "- How many columns of each type are there?\n",
    "- What is the measurement level (nominal, ordinal, interval, ratio) of each variable?"
   ]
  },
  {
   "cell_type": "code",
   "execution_count": null,
   "metadata": {},
   "outputs": [],
   "source": [
    "\n",
    "print(f\"# of rows: {len(ais)}\")\n",
    "print(f\"# of columns: {len(ais.columns)}\")\n",
    "print(\"*\"*50)\n",
    "print(ais.info())\n",
    "print(\"*\"*50)\n",
    "print(ais.dtypes.value_counts())\n",
    "print(\"*\"*50)\n",
    "measurement_levels = {\n",
    "  'id': 'nominal',\n",
    "  'rcc': 'ratio',\n",
    "  'wcc': 'ratio',\n",
    "  'hc': 'ratio',\n",
    "  'hg': 'ratio',\n",
    "  'ferr': 'ratio',\n",
    "  'bmi': 'ratio',\n",
    "  'ssf': 'ratio',\n",
    "  'pcBfat': 'ratio',\n",
    "  'lbm': 'ratio',\n",
    "  'ht': 'ratio',\n",
    "  'wt': 'ratio',\n",
    "  'sex': 'nominal',\n",
    "  'sport': 'nominal'\n",
    "}\n",
    "\n",
    "for column, level in measurement_levels.items():\n",
    "  print(f\"{column}: {level}\")"
   ]
  },
  {
   "cell_type": "markdown",
   "metadata": {},
   "source": [
    "The column \"id\" is not an actual variable, but an index. Mark it as such."
   ]
  },
  {
   "cell_type": "code",
   "execution_count": null,
   "metadata": {},
   "outputs": [],
   "source": [
    "ais.set_index([\"id\"])"
   ]
  },
  {
   "cell_type": "markdown",
   "metadata": {},
   "source": [
    "The variables that are now considered \"object\" are qualitative variables. Change the type of each of these variables to \"category\". For ordinal variables, also define a type and impose an order. Verify that the conversion was successful by requesting info about the types again."
   ]
  },
  {
   "cell_type": "code",
   "execution_count": null,
   "metadata": {},
   "outputs": [],
   "source": [
    "ais.sex = ais.sex.astype('category')\n",
    "ais.sport = ais.sport.astype('category')\n",
    "print(ais.dtypes)\n"
   ]
  },
  {
   "cell_type": "markdown",
   "metadata": {},
   "source": [
    "Describe the columns `ferr`, `bmi`, `sex` and `sport` and the unique values in each of these columns. Do you recognize the characteristics of qualitative and quantitative variables in the result?"
   ]
  },
  {
   "cell_type": "code",
   "execution_count": null,
   "metadata": {},
   "outputs": [],
   "source": [
    "print(ais.ferr.describe())\n",
    "print(\"*\"*50)\n",
    "print(ais.bmi.describe())\n",
    "print(\"*\"*50)\n",
    "print(ais.sex.describe())\n",
    "print(\"*\"*50)\n",
    "print(ais.sport.describe())"
   ]
  },
  {
   "cell_type": "markdown",
   "metadata": {},
   "source": [
    "Select following elements from the dataset:\n",
    "\n",
    "- the second row (ids = 2)\n",
    "- rows 4 to 6 (ids = 5 to 7)\n",
    "- Columns 6 to 8 (`ferr`, `bmi`, `ssf`)\n",
    "- the variable `pcBfat` (by name!). There are multiple ways to retrieve this!\n",
    "- all observations for the sport \"Netball\"\n",
    "- just the variable `wt` of the observations for \"Netball\"\n",
    "- which sports are played by athletes with a BMI higher than 26? Also, provide a list of the unique values and a frequency table of how often each sport occurs."
   ]
  },
  {
   "cell_type": "code",
   "execution_count": null,
   "metadata": {},
   "outputs": [],
   "source": [
    "print(ais.iloc[1:2])"
   ]
  },
  {
   "cell_type": "code",
   "execution_count": null,
   "metadata": {},
   "outputs": [],
   "source": [
    "ais.iloc[4:7]"
   ]
  },
  {
   "cell_type": "code",
   "execution_count": null,
   "metadata": {},
   "outputs": [],
   "source": [
    "ais.iloc[:,5:8]"
   ]
  },
  {
   "cell_type": "code",
   "execution_count": 138,
   "metadata": {},
   "outputs": [
    {
     "data": {
      "text/plain": [
       "0      19.75\n",
       "1      21.30\n",
       "2      19.88\n",
       "3      23.66\n",
       "4      17.64\n",
       "       ...  \n",
       "197    11.79\n",
       "198    10.05\n",
       "199     8.51\n",
       "200    11.50\n",
       "201     6.26\n",
       "Name: pcBfat, Length: 202, dtype: float64"
      ]
     },
     "execution_count": 138,
     "metadata": {},
     "output_type": "execute_result"
    }
   ],
   "source": [
    "ais.pcBfat"
   ]
  },
  {
   "cell_type": "code",
   "execution_count": null,
   "metadata": {},
   "outputs": [],
   "source": [
    "ais[ais.sport == \"Netball\"][\"wt\"]"
   ]
  },
  {
   "cell_type": "code",
   "execution_count": null,
   "metadata": {},
   "outputs": [],
   "source": [
    "ais[ais.bmi > 26].sport.unique()"
   ]
  }
 ],
 "metadata": {
  "kernelspec": {
   "display_name": ".venv",
   "language": "python",
   "name": "python3"
  },
  "language_info": {
   "codemirror_mode": {
    "name": "ipython",
    "version": 3
   },
   "file_extension": ".py",
   "mimetype": "text/x-python",
   "name": "python",
   "nbconvert_exporter": "python",
   "pygments_lexer": "ipython3",
   "version": "3.13.2"
  },
  "orig_nbformat": 4
 },
 "nbformat": 4,
 "nbformat_minor": 2
}
