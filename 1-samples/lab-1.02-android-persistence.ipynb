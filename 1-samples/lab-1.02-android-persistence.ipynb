{
 "cells": [
  {
   "cell_type": "markdown",
   "metadata": {},
   "source": [
    "# Lab 1.02 - Android Persistence\n",
    "\n",
    "Import all necessary Python libraries and create a variable `android_persistence` to load the dataset [android_persistence_cpu.csv](https://github.com/HoGentTIN/dsai-en-labs/blob/main/data/android_persistence_cpu.csv). See the [code book](https://github.com/HoGentTIN/dsai-en-labs/blob/main/data/android_persistence_cpu.md) for more info on the contents. Note this file is not stored as a regular CSV file! You may need to tweak the parameters of the import function to load the file correctly."
   ]
  },
  {
   "cell_type": "code",
   "execution_count": 38,
   "metadata": {},
   "outputs": [],
   "source": [
    "# Package imports for data science\n",
    "import numpy as np\n",
    "import pandas as pd\n",
    "import scipy.stats as stats\n",
    "from pandas.api.types import CategoricalDtype\n",
    "import matplotlib.pyplot as plt\n",
    "import seaborn as sns\n",
    "from statsmodels.graphics.mosaicplot import mosaic"
   ]
  },
  {
   "cell_type": "markdown",
   "metadata": {},
   "source": [
    "Explore the dataset:\n",
    "\n",
    "- How many variables and observations are present in the dataset?\n",
    "- What is the level of measurement of each variable?\n",
    "- Perform the conversion of the qualitative variables to the appropriate type (and specify the order of ordinal variables).\n",
    "- List the data types in the dataset."
   ]
  },
  {
   "cell_type": "code",
   "execution_count": 39,
   "metadata": {},
   "outputs": [],
   "source": [
    "android = pd.read_csv(\"../data/android_persistence_cpu.csv\", sep = \";\", decimal=\".\")              # Load the data"
   ]
  },
  {
   "cell_type": "code",
   "execution_count": 40,
   "metadata": {},
   "outputs": [
    {
     "name": "stdout",
     "output_type": "stream",
     "text": [
      "<class 'pandas.core.frame.DataFrame'>\n",
      "RangeIndex: 300 entries, 0 to 299\n",
      "Data columns (total 3 columns):\n",
      " #   Column           Non-Null Count  Dtype  \n",
      "---  ------           --------------  -----  \n",
      " 0   Time             300 non-null    float64\n",
      " 1   PersistenceType  300 non-null    object \n",
      " 2   DataSize         300 non-null    object \n",
      "dtypes: float64(1), object(2)\n",
      "memory usage: 7.2+ KB\n",
      "None\n",
      "**************************************************\n",
      "Time: Ratio\n",
      "PersistenceType: Nominal\n",
      "DataSize: Ordinal\n",
      "**************************************************\n",
      "<class 'pandas.core.frame.DataFrame'>\n",
      "RangeIndex: 300 entries, 0 to 299\n",
      "Data columns (total 3 columns):\n",
      " #   Column           Non-Null Count  Dtype   \n",
      "---  ------           --------------  -----   \n",
      " 0   Time             300 non-null    float64 \n",
      " 1   PersistenceType  300 non-null    category\n",
      " 2   DataSize         300 non-null    category\n",
      "dtypes: category(2), float64(1)\n",
      "memory usage: 3.4 KB\n",
      "None\n",
      "**************************************************\n",
      "Time                float64\n",
      "PersistenceType    category\n",
      "DataSize           category\n",
      "dtype: object\n"
     ]
    }
   ],
   "source": [
    "print(android.info())\n",
    "print(\"*\"*50)\n",
    "\n",
    "# Level of measurement for each variable\n",
    "measurement_levels = {\n",
    "  'Time': 'Ratio',\n",
    "  'PersistenceType': 'Nominal',\n",
    "  'DataSize': 'Ordinal'  \n",
    "}\n",
    "for column, level in measurement_levels.items():\n",
    "  print(f\"{column}: {level}\")\n",
    "print(\"*\"*50)\n",
    "\n",
    "android.PersistenceType = android.PersistenceType.astype('category')\n",
    "android.DataSize = android.DataSize.astype('category')\n",
    "print(android.info())\n",
    "print(\"*\"*50)\n",
    "\n",
    "print(android.dtypes)"
   ]
  },
  {
   "cell_type": "markdown",
   "metadata": {},
   "source": [
    "Describe each variable."
   ]
  },
  {
   "cell_type": "code",
   "execution_count": 41,
   "metadata": {},
   "outputs": [
    {
     "name": "stdout",
     "output_type": "stream",
     "text": [
      "count    300.000000\n",
      "mean       6.230833\n",
      "std        4.229599\n",
      "min        1.090000\n",
      "25%        1.790000\n",
      "50%        6.185000\n",
      "75%       10.662500\n",
      "max       13.560000\n",
      "Name: Time, dtype: float64\n",
      "**************************************************\n",
      "count          300\n",
      "unique           4\n",
      "top       GreenDAO\n",
      "freq            90\n",
      "Name: PersistenceType, dtype: object\n",
      "**************************************************\n",
      "count       300\n",
      "unique        3\n",
      "top       Small\n",
      "freq        120\n",
      "Name: DataSize, dtype: object\n"
     ]
    }
   ],
   "source": [
    "print(android.Time.describe())\n",
    "print(\"*\"*50)\n",
    "print(android.PersistenceType.describe())\n",
    "print(\"*\"*50)\n",
    "print(android.DataSize.describe())"
   ]
  },
  {
   "cell_type": "markdown",
   "metadata": {},
   "source": [
    "What unique values are there for the variables `PersistenceType` and `DataSize`? How often does each value occur?"
   ]
  },
  {
   "cell_type": "code",
   "execution_count": null,
   "metadata": {},
   "outputs": [],
   "source": []
  },
  {
   "cell_type": "markdown",
   "metadata": {},
   "source": [
    "In this dataset, it is especially interesting to know how often each unique combination of `PersistenceType` and `DataSize` occurs. Figure out how to use the Pandas function `crosstab()` to create a so-called contingency table for these variables. By the way, this concept will return in Module 4 (examining the relationship between 2 qualitative variables)."
   ]
  },
  {
   "cell_type": "code",
   "execution_count": null,
   "metadata": {},
   "outputs": [],
   "source": []
  }
 ],
 "metadata": {
  "kernelspec": {
   "display_name": ".venv",
   "language": "python",
   "name": "python3"
  },
  "language_info": {
   "codemirror_mode": {
    "name": "ipython",
    "version": 3
   },
   "file_extension": ".py",
   "mimetype": "text/x-python",
   "name": "python",
   "nbconvert_exporter": "python",
   "pygments_lexer": "ipython3",
   "version": "3.13.2"
  },
  "orig_nbformat": 4
 },
 "nbformat": 4,
 "nbformat_minor": 2
}
